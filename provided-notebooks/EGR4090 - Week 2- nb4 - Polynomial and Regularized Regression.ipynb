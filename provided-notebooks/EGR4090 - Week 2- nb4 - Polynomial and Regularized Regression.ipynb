{
 "cells": [
  {
   "cell_type": "markdown",
   "metadata": {
    "id": "m5JYBeAtM1-s",
    "slideshow": {
     "slide_type": "slide"
    }
   },
   "source": [
    "**Chapter 4 – Training Linear Models**\n",
    "\n",
    "Texts and code from A. Géron, Hands-on Machine Learning with Scikit Learn, Keras and TensorFlow, 3rd edition, O'Reilly, 2022."
   ]
  },
  {
   "cell_type": "markdown",
   "metadata": {
    "id": "h2YI2gFdYt-B",
    "slideshow": {
     "slide_type": "skip"
    }
   },
   "source": [
    "# Polynomial Regression"
   ]
  },
  {
   "cell_type": "markdown",
   "metadata": {
    "id": "jVk3BzPmYxj3",
    "slideshow": {
     "slide_type": "skip"
    }
   },
   "source": [
    "What if your data is more complex than a straight line? Surprisingly, you can use a\n",
    "linear model to fit nonlinear data. A simple way to do this is to add powers of each\n",
    "feature as new features, then train a linear model on this extended set of features. This\n",
    "technique is called *polynomial regression*."
   ]
  },
  {
   "cell_type": "markdown",
   "metadata": {
    "id": "fYoFlPAVZaX8",
    "slideshow": {
     "slide_type": "skip"
    }
   },
   "source": [
    "Let’s look at an example. First, we’ll generate some nonlinear data, based on a simple quadratic equation, i.e., an equation of the form $y = ax^2 + bx + c$, plus some noise."
   ]
  },
  {
   "cell_type": "code",
   "execution_count": null,
   "metadata": {
    "colab": {
     "base_uri": "https://localhost:8080/"
    },
    "id": "FwMVrnq9Zn-K",
    "outputId": "ca6b5b8e-fd5e-4d31-85f2-eb21fb14f651",
    "slideshow": {
     "slide_type": "skip"
    }
   },
   "outputs": [
    {
     "data": {
      "image/png": "[encoded data removed]",
      "text/plain": [
       "<Figure size 432x288 with 1 Axes>"
      ]
     },
     "metadata": {
      "needs_background": "light"
     },
     "output_type": "display_data"
    }
   ],
   "source": [
    "import numpy as np\n",
    "import matplotlib.pyplot as plt\n",
    "\n",
    "np.random.seed(42)\n",
    "m = 100\n",
    "X = 6 * np.random.rand(m, 1) - 3\n",
    "y = 0.5 * X ** 2 + X + 2 + np.random.randn(m, 1)\n",
    "\n",
    "plt.plot(X, y, \"b.\")\n",
    "plt.xlabel(\"$x_1$\")\n",
    "plt.ylabel(\"$y$\", rotation=0)\n",
    "plt.axis([-3, 3, 0, 10])\n",
    "plt.grid()\n",
    "plt.show()"
   ]
  },
  {
   "cell_type": "markdown",
   "metadata": {
    "id": "_gV0eHaVZnGS",
    "slideshow": {
     "slide_type": "skip"
    }
   },
   "source": [
    "Clearly, a straight line will never fit this data properly. So let’s use Scikit-Learn’s\n",
    "`PolynomialFeatures` class to transform our training data, adding the square (seconddegree\n",
    "polynomial) of each feature in the training set as a new feature (in this case\n",
    "there is just one feature):"
   ]
  },
  {
   "cell_type": "code",
   "execution_count": null,
   "metadata": {
    "colab": {
     "base_uri": "https://localhost:8080/"
    },
    "id": "B3JamCiGbA4p",
    "outputId": "717213e0-5713-4f5e-dd8c-685ed0193e3d",
    "slideshow": {
     "slide_type": "skip"
    }
   },
   "outputs": [
    {
     "name": "stdout",
     "output_type": "stream",
     "text": [
      "Original feature:  [-0.75275929]\n",
      "Original feature and its square:  [-0.75275929]\n"
     ]
    }
   ],
   "source": [
    "from sklearn.preprocessing import PolynomialFeatures\n",
    "\n",
    "poly_features = PolynomialFeatures(degree=2, include_bias=False)\n",
    "X_poly = poly_features.fit_transform(X)\n",
    "print(\"Original feature: \", X[0])\n",
    "print(\"Original feature and its square: \", X_poly[0])"
   ]
  },
  {
   "cell_type": "markdown",
   "metadata": {
    "id": "GjbD3O18bYQP",
    "slideshow": {
     "slide_type": "skip"
    }
   },
   "source": [
    "Now we can fit a `LinearRegression` model to this extended training data"
   ]
  },
  {
   "cell_type": "code",
   "execution_count": null,
   "metadata": {
    "colab": {
     "base_uri": "https://localhost:8080/"
    },
    "id": "GM0tGpbnbjRm",
    "outputId": "5ae7d617-8b61-4dae-a6d6-6f39017dfbdf",
    "slideshow": {
     "slide_type": "skip"
    }
   },
   "outputs": [
    {
     "data": {
      "text/plain": [
       "(array([1.78134581]), array([[0.93366893, 0.56456263]]))"
      ]
     },
     "execution_count": 16,
     "metadata": {},
     "output_type": "execute_result"
    }
   ],
   "source": [
    "from sklearn.linear_model import LinearRegression\n",
    "\n",
    "lin_reg = LinearRegression()\n",
    "lin_reg.fit(X_poly, y)\n",
    "lin_reg.intercept_, lin_reg.coef_"
   ]
  },
  {
   "cell_type": "markdown",
   "metadata": {
    "id": "tjyudBrebmH-",
    "slideshow": {
     "slide_type": "skip"
    }
   },
   "source": [
    "Not bad: the model estimates $\\hat{y} = 0.56x_1^2 + 0.93x_1 + 1.78$ when the original function was $y = 0.5x_1^2 + 1.0x_1 +2.0 + $ Gaussian noise."
   ]
  },
  {
   "cell_type": "markdown",
   "metadata": {
    "id": "rL4xiBi0b-sL",
    "slideshow": {
     "slide_type": "skip"
    }
   },
   "source": [
    "Note that when there are multiple features, polynomial regression is capable of\n",
    "finding relationships between features, which is something a plain linear regression\n",
    "model cannot do. This is made possible by the fact that `PolynomialFeatures` also\n",
    "adds all combinations of features up to the given degree. For example, if there were\n",
    "two features $a$ and $b$, `PolynomialFeatures` with `degree=3` would not only add the\n",
    "features $a^2$, $a^3$, $b^2$, and $b^3$, but also the combinations $ab$, $a^2 b$, and $ab^2$."
   ]
  },
  {
   "cell_type": "markdown",
   "metadata": {
    "id": "dIrSSDatdcmb",
    "slideshow": {
     "slide_type": "skip"
    }
   },
   "source": [
    "# Learning Curves"
   ]
  },
  {
   "cell_type": "markdown",
   "metadata": {
    "id": "lYWU04gBdeJM",
    "slideshow": {
     "slide_type": "skip"
    }
   },
   "source": [
    "If you perform high-degree polynomial regression, you will likely fit the training data\n",
    "much better than with plain linear regression. "
   ]
  },
  {
   "cell_type": "markdown",
   "metadata": {
    "id": "Ot_3Jco5d7BZ",
    "slideshow": {
     "slide_type": "skip"
    }
   },
   "source": [
    "But in general you won’t know what function generated the\n",
    "data, so how can you decide how complex your model should be? How can you tell\n",
    "that your model is overfitting or underfitting the data?"
   ]
  },
  {
   "cell_type": "markdown",
   "metadata": {
    "id": "npnhXkGieAGf",
    "slideshow": {
     "slide_type": "skip"
    }
   },
   "source": [
    "In Chapter 2 you used cross-validation to get an estimate of a model’s generalization\n",
    "performance. If a model performs well on the training data but generalizes poorly\n",
    "according to the cross-validation metrics, then your model is overfitting. If it performs\n",
    "poorly on both, then it is underfitting. This is one way to tell when a model is\n",
    "too simple or too complex."
   ]
  },
  {
   "cell_type": "markdown",
   "metadata": {
    "id": "CSy2bcZieBQp",
    "slideshow": {
     "slide_type": "skip"
    }
   },
   "source": [
    "Another way to tell is to look at the learning curves, which are plots of the model’s\n",
    "training error and validation error as a function of the training iteration: just evaluate\n",
    "the model at regular intervals during training on both the training set and the\n",
    "validation set, and plot the results."
   ]
  },
  {
   "cell_type": "markdown",
   "metadata": {
    "id": "87E7sNpEeIwo",
    "slideshow": {
     "slide_type": "skip"
    }
   },
   "source": [
    "Scikit-Learn has a useful `learning_curve()` function to help with this: it trains\n",
    "and evaluates the model using cross-validation. By default it retrains the model on\n",
    "growing subsets of the training set, but if the model supports incremental learning\n",
    "you can set `exploit_incremental_learning=True` when calling `learning_curve()`\n",
    "and it will train the model incrementally instead."
   ]
  },
  {
   "cell_type": "markdown",
   "metadata": {
    "id": "jb4QBDUkeWmu",
    "slideshow": {
     "slide_type": "skip"
    }
   },
   "source": [
    "The function returns the training\n",
    "set sizes at which it evaluated the model, and the training and validation scores it measured for each size and for each cross-validation fold. Let’s use this function to\n",
    "look at the learning curves of the plain linear regression model"
   ]
  },
  {
   "cell_type": "code",
   "execution_count": null,
   "metadata": {
    "colab": {
     "base_uri": "https://localhost:8080/"
    },
    "id": "deTnIalJeaDO",
    "outputId": "f4ceaca7-93da-4c04-a34c-0cc87758fdd1",
    "slideshow": {
     "slide_type": "skip"
    }
   },
   "outputs": [
    {
     "data": {
      "image/png": "[encoded data removed]",
      "text/plain": [
       "<Figure size 432x288 with 1 Axes>"
      ]
     },
     "metadata": {
      "needs_background": "light"
     },
     "output_type": "display_data"
    }
   ],
   "source": [
    "from sklearn.model_selection import learning_curve\n",
    "\n",
    "train_sizes, train_scores, valid_scores = learning_curve(\n",
    "    LinearRegression(), X, y, train_sizes=np.linspace(0.01, 1.0, 40), cv=5,\n",
    "    scoring=\"neg_root_mean_squared_error\")\n",
    "train_errors = -train_scores.mean(axis=1)\n",
    "valid_errors = -valid_scores.mean(axis=1)\n",
    "\n",
    "plt.plot(train_sizes, train_errors, \"r-+\", linewidth=2, label=\"train\")\n",
    "plt.plot(train_sizes, valid_errors, \"b-\", linewidth=3, label=\"valid\")\n",
    "plt.xlabel(\"Training set size\")\n",
    "plt.ylabel(\"RMSE\")\n",
    "plt.grid()\n",
    "plt.legend(loc=\"upper right\")\n",
    "plt.axis([0, 80, 0, 2.5])\n",
    "plt.show()"
   ]
  },
  {
   "cell_type": "markdown",
   "metadata": {
    "id": "c49gv9uMevy7",
    "slideshow": {
     "slide_type": "skip"
    }
   },
   "source": [
    "This model is underfitting. To see why, first let’s look at the training error. When there\n",
    "are just one or two instances in the training set, the model can fit them perfectly,\n",
    "which is why the curve starts at zero."
   ]
  },
  {
   "cell_type": "markdown",
   "metadata": {
    "id": "tON_HJK1e5p0",
    "slideshow": {
     "slide_type": "skip"
    }
   },
   "source": [
    "But as new instances are added to the training\n",
    "set, it becomes impossible for the model to fit the training data perfectly, both because\n",
    "the data is noisy and because it is not linear at all."
   ]
  },
  {
   "cell_type": "markdown",
   "metadata": {
    "id": "E4k_Y-T3e-JT",
    "slideshow": {
     "slide_type": "skip"
    }
   },
   "source": [
    "So the error on the training\n",
    "data goes up until it reaches a plateau, at which point adding new instances to the\n",
    "training set doesn’t make the average error much better or worse"
   ]
  },
  {
   "cell_type": "markdown",
   "metadata": {
    "id": "pl2XvkbcfNdJ",
    "slideshow": {
     "slide_type": "skip"
    }
   },
   "source": [
    "Now let’s look at\n",
    "the validation error. When the model is trained on very few training instances, it is\n",
    "incapable of generalizing properly, which is why the validation error is initially quite\n",
    "large. Then, as the model is shown more training examples, it learns, and thus the\n",
    "validation error slowly goes down."
   ]
  },
  {
   "cell_type": "markdown",
   "metadata": {
    "id": "uqAc8XT4fRhq",
    "slideshow": {
     "slide_type": "skip"
    }
   },
   "source": [
    "However, once again a straight line cannot do a\n",
    "good job of modeling the data, so the error ends up at a plateau, very close to the\n",
    "other curve."
   ]
  },
  {
   "cell_type": "markdown",
   "metadata": {
    "id": "BM1mXGI5fTVA",
    "slideshow": {
     "slide_type": "skip"
    }
   },
   "source": [
    "**These learning curves are typical of a model that’s underfitting. Both curves have reached a plateau; they are close and fairly high.**"
   ]
  },
  {
   "cell_type": "markdown",
   "metadata": {
    "id": "brKNjNxafi_g",
    "slideshow": {
     "slide_type": "skip"
    }
   },
   "source": [
    "Now let’s look at the learning curves of a 10th-degree polynomial model on the same\n",
    "data:"
   ]
  },
  {
   "cell_type": "code",
   "execution_count": null,
   "metadata": {
    "id": "RMis8zrKflfI",
    "slideshow": {
     "slide_type": "skip"
    }
   },
   "outputs": [],
   "source": [
    "from sklearn.pipeline import make_pipeline\n",
    "\n",
    "polynomial_regression = make_pipeline(\n",
    "    PolynomialFeatures(degree=10, include_bias=False),\n",
    "    LinearRegression())\n",
    "\n",
    "train_sizes, train_scores, valid_scores = learning_curve(\n",
    "    polynomial_regression, X, y, train_sizes=np.linspace(0.01, 1.0, 40), cv=5,\n",
    "    scoring=\"neg_root_mean_squared_error\")"
   ]
  },
  {
   "cell_type": "code",
   "execution_count": null,
   "metadata": {
    "colab": {
     "base_uri": "https://localhost:8080/"
    },
    "id": "UCjT5eiKfq8G",
    "outputId": "a4e2db07-bc3b-4c99-9c00-92b747c12aa5",
    "slideshow": {
     "slide_type": "skip"
    }
   },
   "outputs": [
    {
     "data": {
      "image/png": "[encoded data removed]",
      "text/plain": [
       "<Figure size 432x288 with 1 Axes>"
      ]
     },
     "metadata": {
      "needs_background": "light"
     },
     "output_type": "display_data"
    }
   ],
   "source": [
    "train_errors = -train_scores.mean(axis=1)\n",
    "valid_errors = -valid_scores.mean(axis=1)\n",
    "plt.plot(train_sizes, train_errors, \"r-+\", linewidth=2, label=\"train\")\n",
    "plt.plot(train_sizes, valid_errors, \"b-\", linewidth=3, label=\"valid\")\n",
    "plt.legend(loc=\"upper right\")\n",
    "plt.xlabel(\"Training set size\")\n",
    "plt.ylabel(\"RMSE\")\n",
    "plt.grid()\n",
    "plt.axis([0, 80, 0, 2.5])\n",
    "plt.show()"
   ]
  },
  {
   "cell_type": "markdown",
   "metadata": {
    "id": "PCz6D4eLf1p6",
    "slideshow": {
     "slide_type": "skip"
    }
   },
   "source": [
    "These learning curves look a bit like the previous ones, but there are two very\n",
    "important differences:"
   ]
  },
  {
   "cell_type": "markdown",
   "metadata": {
    "id": "Vi2WFyQNf22-",
    "slideshow": {
     "slide_type": "skip"
    }
   },
   "source": [
    "\n",
    "\n",
    "*   The error on the training data is much lower than before.\n",
    "*   There is a gap between the curves. This means that the model performs significantly better on the training data than on the validatation data, which is the hallmark of an overfitting model. With a larger training set, however, the two curves would continue to get closer.\n",
    "\n"
   ]
  },
  {
   "cell_type": "markdown",
   "metadata": {
    "id": "CoQh0c50gK1c",
    "slideshow": {
     "slide_type": "skip"
    }
   },
   "source": [
    "Finally, let's see the curves for the best model in this case:"
   ]
  },
  {
   "cell_type": "code",
   "execution_count": null,
   "metadata": {
    "colab": {
     "base_uri": "https://localhost:8080/"
    },
    "id": "JTvOFAK2gRSc",
    "outputId": "8a7a1ac9-a51a-4030-bec9-a7674da98efe",
    "slideshow": {
     "slide_type": "skip"
    }
   },
   "outputs": [
    {
     "data": {
      "image/png": "[encoded data removed]",
      "text/plain": [
       "<Figure size 432x288 with 1 Axes>"
      ]
     },
     "metadata": {
      "needs_background": "light"
     },
     "output_type": "display_data"
    }
   ],
   "source": [
    "from sklearn.pipeline import make_pipeline\n",
    "\n",
    "polynomial_regression = make_pipeline(\n",
    "    PolynomialFeatures(degree=2, include_bias=False),\n",
    "    LinearRegression())\n",
    "\n",
    "train_sizes, train_scores, valid_scores = learning_curve(\n",
    "    polynomial_regression, X, y, train_sizes=np.linspace(0.01, 1.0, 40), cv=5,\n",
    "    scoring=\"neg_root_mean_squared_error\")\n",
    "\n",
    "train_errors = -train_scores.mean(axis=1)\n",
    "valid_errors = -valid_scores.mean(axis=1)\n",
    "plt.plot(train_sizes, train_errors, \"r-+\", linewidth=2, label=\"train\")\n",
    "plt.plot(train_sizes, valid_errors, \"b-\", linewidth=3, label=\"valid\")\n",
    "plt.legend(loc=\"upper right\")\n",
    "plt.xlabel(\"Training set size\")\n",
    "plt.ylabel(\"RMSE\")\n",
    "plt.grid()\n",
    "plt.axis([0, 80, 0, 2.5])\n",
    "plt.show()"
   ]
  },
  {
   "cell_type": "markdown",
   "metadata": {
    "id": "U9a0xmc_gZGi",
    "slideshow": {
     "slide_type": "skip"
    }
   },
   "source": [
    "# The Bias/Variance Trade-Off"
   ]
  },
  {
   "cell_type": "markdown",
   "metadata": {
    "id": "p5tOo5MbgcsL",
    "slideshow": {
     "slide_type": "skip"
    }
   },
   "source": [
    "An important theoretical result of statistics and machine learning is the fact that\n",
    "a model’s generalization error can be expressed as the sum of three very different\n",
    "errors:"
   ]
  },
  {
   "cell_type": "markdown",
   "metadata": {
    "id": "kBf2LsrUgefj",
    "slideshow": {
     "slide_type": "skip"
    }
   },
   "source": [
    "*Bias*\n",
    "\n",
    "\n",
    "> This part of the generalization error is due to wrong assumptions, such as\n",
    "assuming that the data is linear when it is actually quadratic. A high-bias model\n",
    "is most likely to underfit the training data\n",
    "\n"
   ]
  },
  {
   "cell_type": "markdown",
   "metadata": {
    "id": "vb25DsUUgk0a",
    "slideshow": {
     "slide_type": "skip"
    }
   },
   "source": [
    "*Variance*\n",
    "\n",
    "\n",
    "> This part is due to the model’s excessive sensitivity to small variations in the\n",
    "training data. A model with many degrees of freedom (such as a high-degree\n",
    "polynomial model) is likely to have high variance and thus overfit the training\n",
    "data.\n",
    "\n"
   ]
  },
  {
   "cell_type": "markdown",
   "metadata": {
    "id": "aTiyCEP3gro5",
    "slideshow": {
     "slide_type": "skip"
    }
   },
   "source": [
    "*Irreducible error*\n",
    "\n",
    "\n",
    "> This part is due to the noisiness of the data itself. The only way to reduce this\n",
    "part of the error is to clean up the data (e.g., fix the data sources, such as broken\n",
    "sensors, or detect and remove outliers).\n",
    "\n"
   ]
  },
  {
   "cell_type": "markdown",
   "metadata": {
    "id": "mknzeW4PgyqR",
    "slideshow": {
     "slide_type": "skip"
    }
   },
   "source": [
    "**Increasing a model’s complexity will typically increase its variance and reduce its bias. Conversely, reducing a model’s complexity increases its bias and reduces its variance. This is why it is called a trade-off.**"
   ]
  },
  {
   "cell_type": "markdown",
   "metadata": {
    "id": "igyj5BExg-pS",
    "slideshow": {
     "slide_type": "slide"
    }
   },
   "source": [
    "# Regularized Linear Models"
   ]
  },
  {
   "cell_type": "markdown",
   "metadata": {
    "id": "r3xnVRZchBvK",
    "slideshow": {
     "slide_type": "subslide"
    }
   },
   "source": [
    "As you saw in Chapters 1 and 2, a good way to reduce overfitting is to regularize the\n",
    "model (i.e., to constrain it): the fewer degrees of freedom it has, the harder it will be\n",
    "for it to overfit the data."
   ]
  },
  {
   "cell_type": "markdown",
   "metadata": {
    "id": "vmOXeiZahclp",
    "slideshow": {
     "slide_type": "fragment"
    }
   },
   "source": [
    "For a linear model, regularization is typically achieved by constraining the weights\n",
    "of the model. We will now look at ridge regression, lasso regression, and elastic net\n",
    "regression, which implement three different ways to constrain the weights."
   ]
  },
  {
   "cell_type": "markdown",
   "metadata": {
    "id": "uz5i8RLOhhBR",
    "slideshow": {
     "slide_type": "slide"
    }
   },
   "source": [
    "# Ridge Regression"
   ]
  },
  {
   "cell_type": "markdown",
   "metadata": {
    "id": "hiczGaBIhjUS",
    "slideshow": {
     "slide_type": "subslide"
    }
   },
   "source": [
    "Ridge regression (also called Tikhonov regularization) is a regularized version of linear\n",
    "regression: a regularization term equal to $\\frac{\\alpha}{m} \\sum_{i=1}^{n}{\\theta _i ^2}$ is added to the MSE: $J(\\boldsymbol{\\theta}) = \\mathrm{MSE}(\\boldsymbol{\\theta}) + \\frac{\\alpha}{m} \\sum_{i=1}^{n}{\\theta _i ^2}$"
   ]
  },
  {
   "cell_type": "markdown",
   "metadata": {
    "id": "MgzPrgl6h3jP",
    "slideshow": {
     "slide_type": "fragment"
    }
   },
   "source": [
    "This forces the learning algorithm to not only fit the data but also keep the model weights as small as possible."
   ]
  },
  {
   "cell_type": "markdown",
   "metadata": {
    "id": "7U7EBoZEiA8P",
    "slideshow": {
     "slide_type": "subslide"
    }
   },
   "source": [
    "Note that the regularization term should only be added to\n",
    "the cost function during training. Once the model is trained, you want to use the\n",
    "unregularized MSE (or the RMSE) to evaluate the model’s performance"
   ]
  },
  {
   "cell_type": "markdown",
   "metadata": {
    "id": "AmHPwE4JiHUP",
    "slideshow": {
     "slide_type": "fragment"
    }
   },
   "source": [
    "The hyperparameter $\\alpha$ controls how much you want to regularize the model. If $\\alpha = 0$, then ridge regression is just linear regression. If $\\alpha$ is very large, then all weights end up very close to zero and the result is a flat line going thorugh the data's mean."
   ]
  },
  {
   "cell_type": "markdown",
   "metadata": {
    "id": "nM06-nfTjEqE",
    "slideshow": {
     "slide_type": "subslide"
    }
   },
   "source": [
    "Here is how to perform ridge regression with Scikit-Learn using a closed-form\n",
    "solution (using a matrix factorization technique by\n",
    "André-Louis Cholesky):"
   ]
  },
  {
   "cell_type": "code",
   "execution_count": null,
   "metadata": {
    "id": "nzJk4ZY5jmH1",
    "slideshow": {
     "slide_type": "fragment"
    }
   },
   "outputs": [],
   "source": [
    "# extra code – we've done this type of generation several times before\n",
    "np.random.seed(42)\n",
    "m = 20\n",
    "X = 3 * np.random.rand(m, 1)\n",
    "y = 1 + 0.5 * X + np.random.randn(m, 1) / 1.5\n",
    "X_new = np.linspace(0, 3, 100).reshape(100, 1)"
   ]
  },
  {
   "cell_type": "code",
   "execution_count": null,
   "metadata": {
    "colab": {
     "base_uri": "https://localhost:8080/",
     "height": 285
    },
    "id": "6llavND5jnFq",
    "outputId": "a3292b75-735c-4259-8a4a-0b884e8bfce5",
    "slideshow": {
     "slide_type": "subslide"
    }
   },
   "outputs": [
    {
     "data": {
      "image/png": "[encoded data removed]",
      "text/plain": [
       "<Figure size 432x288 with 1 Axes>"
      ]
     },
     "metadata": {
      "needs_background": "light"
     },
     "output_type": "display_data"
    }
   ],
   "source": [
    "# extra code – a quick peek at the dataset we just generated\n",
    "plt.figure(figsize=(6, 4))\n",
    "plt.plot(X, y, \".\")\n",
    "plt.xlabel(\"$x_1$\")\n",
    "plt.ylabel(\"$y$  \", rotation=0)\n",
    "plt.axis([0, 3, 0, 3.5])\n",
    "plt.grid()\n",
    "plt.show()"
   ]
  },
  {
   "cell_type": "code",
   "execution_count": null,
   "metadata": {
    "colab": {
     "base_uri": "https://localhost:8080/"
    },
    "id": "fJdpvoN7jx2k",
    "outputId": "8d5da23d-d96f-4bde-e02e-0f8f2a3c131e",
    "slideshow": {
     "slide_type": "subslide"
    }
   },
   "outputs": [
    {
     "data": {
      "text/plain": [
       "array([[1.55325833]])"
      ]
     },
     "execution_count": 23,
     "metadata": {},
     "output_type": "execute_result"
    }
   ],
   "source": [
    "from sklearn.linear_model import Ridge\n",
    "\n",
    "ridge_reg = Ridge(alpha=0.1, solver=\"cholesky\")\n",
    "ridge_reg.fit(X, y)\n",
    "ridge_reg.predict([[1.5]])"
   ]
  },
  {
   "cell_type": "markdown",
   "metadata": {
    "id": "ICDdbyjwjxTj",
    "slideshow": {
     "slide_type": "subslide"
    }
   },
   "source": [
    "And using stochastic gradient descent:"
   ]
  },
  {
   "cell_type": "code",
   "execution_count": null,
   "metadata": {
    "colab": {
     "base_uri": "https://localhost:8080/"
    },
    "id": "yQAeQeb6j3X7",
    "outputId": "3f8b23fd-3244-4208-beb8-93eacc01efa6",
    "slideshow": {
     "slide_type": "fragment"
    }
   },
   "outputs": [
    {
     "data": {
      "text/plain": [
       "array([1.55302613])"
      ]
     },
     "execution_count": 24,
     "metadata": {},
     "output_type": "execute_result"
    }
   ],
   "source": [
    "from sklearn.linear_model import SGDRegressor\n",
    "\n",
    "sgd_reg = SGDRegressor(penalty=\"l2\", alpha=0.1 / m, tol=None,\n",
    "                       max_iter=1000, eta0=0.01, random_state=42)\n",
    "sgd_reg.fit(X, y.ravel())  # y.ravel() because fit() expects 1D targets\n",
    "sgd_reg.predict([[1.5]])"
   ]
  },
  {
   "cell_type": "code",
   "execution_count": null,
   "metadata": {
    "colab": {
     "base_uri": "https://localhost:8080/",
     "height": 258
    },
    "id": "6LCyPDjymPDx",
    "outputId": "3a3c3a5a-cc87-44c7-cda9-d37ac491316e",
    "slideshow": {
     "slide_type": "skip"
    }
   },
   "outputs": [
    {
     "data": {
      "image/png": "[encoded data removed]",
      "text/plain": [
       "<Figure size 648x252 with 2 Axes>"
      ]
     },
     "metadata": {
      "needs_background": "light"
     },
     "output_type": "display_data"
    }
   ],
   "source": [
    "# extra code – this cell generates and saves Figure 4–17\n",
    "\n",
    "from sklearn.preprocessing import StandardScaler\n",
    "\n",
    "def plot_model(model_class, polynomial, alphas, **model_kwargs):\n",
    "    plt.plot(X, y, \"b.\", linewidth=3)\n",
    "    for alpha, style in zip(alphas, (\"b:\", \"g--\", \"r-\")):\n",
    "        if alpha > 0:\n",
    "            model = model_class(alpha, **model_kwargs)\n",
    "        else:\n",
    "            model = LinearRegression()\n",
    "        if polynomial:\n",
    "            model = make_pipeline(\n",
    "                PolynomialFeatures(degree=10, include_bias=False),\n",
    "                StandardScaler(),\n",
    "                model)\n",
    "        model.fit(X, y)\n",
    "        y_new_regul = model.predict(X_new)\n",
    "        plt.plot(X_new, y_new_regul, style, linewidth=2,\n",
    "                 label=fr\"$\\alpha = {alpha}$\")\n",
    "    plt.legend(loc=\"upper left\")\n",
    "    plt.xlabel(\"$x_1$\")\n",
    "    plt.axis([0, 3, 0, 3.5])\n",
    "    plt.grid()\n",
    "\n",
    "plt.figure(figsize=(9, 3.5))\n",
    "plt.subplot(121)\n",
    "plot_model(Ridge, polynomial=False, alphas=(0, 10, 100), random_state=42)\n",
    "plt.ylabel(\"$y$  \", rotation=0)\n",
    "plt.subplot(122)\n",
    "plot_model(Ridge, polynomial=True, alphas=(0, 10**-5, 1), random_state=42)\n",
    "plt.gca().axes.yaxis.set_ticklabels([])\n",
    "plt.show()"
   ]
  },
  {
   "cell_type": "markdown",
   "metadata": {
    "id": "2oijm2HDsYF2",
    "slideshow": {
     "slide_type": "slide"
    }
   },
   "source": [
    "# Lasso Regression"
   ]
  },
  {
   "cell_type": "markdown",
   "metadata": {
    "id": "zAb4m1_yjlLD",
    "slideshow": {
     "slide_type": "subslide"
    }
   },
   "source": [
    "Least absolute shrinkage and selection operator regression (usually simply called lasso\n",
    "regression) is another regularized version of linear regression: just like ridge regression,\n",
    "it adds a regularization term to the cost function, but it uses the $ℓ_1$ norm of\n",
    "the weight vector instead of the square of the $ℓ_2$ norm. The cost function is  $J(\\boldsymbol{\\theta}) = \\mathrm{MSE}(\\boldsymbol{\\theta}) +2\\alpha \\sum _{i=1}^{n} \\left| \\theta_i \\right|$. "
   ]
  },
  {
   "cell_type": "markdown",
   "metadata": {
    "id": "7RQXk7VInai4",
    "slideshow": {
     "slide_type": "subslide"
    }
   },
   "source": [
    "Here is a small Scikit-Learn example using the Lasso class:"
   ]
  },
  {
   "cell_type": "code",
   "execution_count": null,
   "metadata": {
    "colab": {
     "base_uri": "https://localhost:8080/"
    },
    "id": "6VeUgygDna_6",
    "outputId": "e5bf22b3-7df9-4d92-89bc-327dc738ccc5",
    "slideshow": {
     "slide_type": "fragment"
    }
   },
   "outputs": [
    {
     "data": {
      "text/plain": [
       "array([1.53788174])"
      ]
     },
     "execution_count": 28,
     "metadata": {},
     "output_type": "execute_result"
    }
   ],
   "source": [
    "from sklearn.linear_model import Lasso\n",
    "\n",
    "lasso_reg = Lasso(alpha=0.1)\n",
    "lasso_reg.fit(X, y)\n",
    "lasso_reg.predict([[1.5]])"
   ]
  },
  {
   "cell_type": "markdown",
   "metadata": {
    "id": "3evmQ5P3rHSQ",
    "slideshow": {
     "slide_type": "fragment"
    }
   },
   "source": [
    "Note that you could instead use `SGDRegressor(penalty=\"l1\", alpha=0.1)`."
   ]
  },
  {
   "cell_type": "markdown",
   "metadata": {
    "id": "Tf7uYxV2nF2D",
    "slideshow": {
     "slide_type": "subslide"
    }
   },
   "source": [
    "An important characteristic of lasso regression is that it tends to eliminate the weights\n",
    "of the least important features (i.e., set them to zero). For example, the dashed line\n",
    "in the righthand plot below (with α = 0.01) looks roughly cubic: all the\n",
    "weights for the high-degree polynomial features are equal to zero. In other words,\n",
    "lasso regression automatically performs feature selection and outputs a sparse model\n",
    "with few nonzero feature weights."
   ]
  },
  {
   "cell_type": "code",
   "execution_count": null,
   "metadata": {
    "colab": {
     "base_uri": "https://localhost:8080/",
     "height": 258
    },
    "id": "9iCI2LWTnQxi",
    "outputId": "02035df2-25ce-4be8-eac6-b320a3e15451",
    "slideshow": {
     "slide_type": "fragment"
    }
   },
   "outputs": [
    {
     "data": {
      "image/png": "[encoded data removed]",
      "text/plain": [
       "<Figure size 648x252 with 2 Axes>"
      ]
     },
     "metadata": {
      "needs_background": "light"
     },
     "output_type": "display_data"
    }
   ],
   "source": [
    "plt.figure(figsize=(9, 3.5))\n",
    "plt.subplot(121)\n",
    "plot_model(Lasso, polynomial=False, alphas=(0, 0.1, 1), random_state=42)\n",
    "plt.ylabel(\"$y$  \", rotation=0)\n",
    "plt.subplot(122)\n",
    "plot_model(Lasso, polynomial=True, alphas=(0, 1e-2, 1), random_state=42)\n",
    "plt.gca().axes.yaxis.set_ticklabels([])\n",
    "plt.show()"
   ]
  },
  {
   "cell_type": "markdown",
   "metadata": {
    "id": "nMeIGZ6KrvIf",
    "slideshow": {
     "slide_type": "slide"
    }
   },
   "source": [
    "# Elastic Net Regression"
   ]
  },
  {
   "cell_type": "markdown",
   "metadata": {
    "id": "pJ-FLi1KsjCk",
    "slideshow": {
     "slide_type": "subslide"
    }
   },
   "source": [
    "Elastic net regression is a middle ground between ridge regression and lasso regression.\n",
    "The regularization term is a weighted sum of both ridge and lasso’s regularization\n",
    "terms, and you can control the mix ratio r. When r = 0, elastic net is equivalent\n",
    "to ridge regression, and when r = 1, it is equivalent to lasso regression:\n",
    "\n",
    "$J(\\boldsymbol{\\theta}) = \\mathrm{MSE}(\\boldsymbol{\\theta}) + r \\left( 2\\alpha \\sum _{i=1}^{n} \\left| \\theta_i \\right| \\right) + (1-r) \\left( \\frac{\\alpha}{m} \\sum_{i=1}^{n}{\\theta _i ^2} \\right)$"
   ]
  },
  {
   "cell_type": "markdown",
   "metadata": {
    "id": "iCSJUiqvtZbc",
    "slideshow": {
     "slide_type": "subslide"
    }
   },
   "source": [
    "So when should you use elastic net regression, or ridge, lasso, or plain linear regression\n",
    "(i.e., without any regularization)? It is almost always preferable to have at least\n",
    "a little bit of regularization, so generally you should avoid plain linear regression.\n"
   ]
  },
  {
   "cell_type": "markdown",
   "metadata": {
    "id": "f5SANshqtgeT",
    "slideshow": {
     "slide_type": "subslide"
    }
   },
   "source": [
    "Ridge is a good default, but if you suspect that only a few features are useful, you\n",
    "should prefer lasso or elastic net because they tend to reduce the useless features’\n",
    "weights down to zero, as discussed earlier."
   ]
  },
  {
   "cell_type": "markdown",
   "metadata": {
    "id": "O9zg_C2Rtij8",
    "slideshow": {
     "slide_type": "subslide"
    }
   },
   "source": [
    "In general, elastic net is preferred over lasso because lasso may behave erratically when the number of features is greater than\n",
    "the number of training instances or when several features are strongly correlated."
   ]
  },
  {
   "cell_type": "markdown",
   "metadata": {
    "id": "B69FtdlCtqRK",
    "slideshow": {
     "slide_type": "subslide"
    }
   },
   "source": [
    "Here is a short example that uses Scikit-Learn’s ElasticNet (`l1_ratio` corresponds to\n",
    "the mix ratio `r`):"
   ]
  },
  {
   "cell_type": "code",
   "execution_count": null,
   "metadata": {
    "colab": {
     "base_uri": "https://localhost:8080/"
    },
    "id": "h2Pzmf7etswi",
    "outputId": "a45184e7-5d13-4226-d0df-dac5227a0773",
    "slideshow": {
     "slide_type": "fragment"
    }
   },
   "outputs": [
    {
     "data": {
      "text/plain": [
       "array([1.54333232])"
      ]
     },
     "execution_count": 30,
     "metadata": {},
     "output_type": "execute_result"
    }
   ],
   "source": [
    "from sklearn.linear_model import ElasticNet\n",
    "\n",
    "elastic_net = ElasticNet(alpha=0.1, l1_ratio=0.5)\n",
    "elastic_net.fit(X, y)\n",
    "elastic_net.predict([[1.5]])"
   ]
  },
  {
   "cell_type": "markdown",
   "metadata": {
    "id": "ukeVvQk0tvZi",
    "slideshow": {
     "slide_type": "slide"
    }
   },
   "source": [
    "# Early Stopping"
   ]
  },
  {
   "cell_type": "markdown",
   "metadata": {
    "id": "C1vsQ3Octz2C",
    "slideshow": {
     "slide_type": "subslide"
    }
   },
   "source": [
    "A very different way to regularize iterative learning algorithms such as gradient\n",
    "descent is to stop training as soon as the validation error reaches a minimum. This is\n",
    "called *early stopping*."
   ]
  },
  {
   "cell_type": "markdown",
   "metadata": {
    "id": "Qc6-Xht_uJzT",
    "slideshow": {
     "slide_type": "subslide"
    }
   },
   "source": [
    "![image.png](data:image/png;base64,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)"
   ]
  },
  {
   "cell_type": "markdown",
   "metadata": {
    "id": "w6mfLdOat45R",
    "slideshow": {
     "slide_type": "subslide"
    }
   },
   "source": [
    "As the epochs go by, the algorithm learns, and its\n",
    "prediction error (RMSE) on the training set goes down, along with its prediction\n",
    "error on the validation set."
   ]
  },
  {
   "cell_type": "markdown",
   "metadata": {
    "id": "Ic2Kn-3-uCQZ",
    "slideshow": {
     "slide_type": "fragment"
    }
   },
   "source": [
    "After a while, though, the validation error stops decreasing\n",
    "and starts to go back up. This indicates that the model has started to overfit the\n",
    "training data."
   ]
  },
  {
   "cell_type": "markdown",
   "metadata": {
    "id": "O6J1gPhBuHiR",
    "slideshow": {
     "slide_type": "fragment"
    }
   },
   "source": [
    "With early stopping you just stop training as soon as the validation\n",
    "error reaches the minimum. It is such a simple and efficient regularization technique\n",
    "that Geoffrey Hinton called it a “beautiful free lunch”."
   ]
  },
  {
   "cell_type": "markdown",
   "metadata": {
    "id": "Wg6_cjrduTYJ",
    "slideshow": {
     "slide_type": "subslide"
    }
   },
   "source": [
    "Here is a basic implementation of early stopping:"
   ]
  },
  {
   "cell_type": "code",
   "execution_count": null,
   "metadata": {
    "id": "ROV7mVtauUkM",
    "slideshow": {
     "slide_type": "subslide"
    }
   },
   "outputs": [],
   "source": [
    "from copy import deepcopy\n",
    "from sklearn.metrics import mean_squared_error\n",
    "from sklearn.preprocessing import StandardScaler\n",
    "\n",
    "# extra code – creates the same quadratic dataset as earlier and splits it\n",
    "np.random.seed(42)\n",
    "m = 100\n",
    "X = 6 * np.random.rand(m, 1) - 3\n",
    "y = 0.5 * X ** 2 + X + 2 + np.random.randn(m, 1)\n",
    "X_train, y_train = X[: m // 2], y[: m // 2, 0]\n",
    "X_valid, y_valid = X[m // 2 :], y[m // 2 :, 0]\n",
    "\n",
    "preprocessing = make_pipeline(PolynomialFeatures(degree=90, include_bias=False),\n",
    "                              StandardScaler())\n",
    "X_train_prep = preprocessing.fit_transform(X_train)\n",
    "X_valid_prep = preprocessing.transform(X_valid)\n",
    "sgd_reg = SGDRegressor(penalty=None, eta0=0.002, random_state=42)\n",
    "n_epochs = 500\n",
    "best_valid_rmse = float('inf')\n",
    "\n",
    "for epoch in range(n_epochs):\n",
    "    sgd_reg.partial_fit(X_train_prep, y_train)\n",
    "    y_valid_predict = sgd_reg.predict(X_valid_prep)\n",
    "    val_error = mean_squared_error(y_valid, y_valid_predict, squared=False)\n",
    "    if val_error < best_valid_rmse:\n",
    "        best_valid_rmse = val_error\n",
    "        best_model = deepcopy(sgd_reg)"
   ]
  },
  {
   "cell_type": "markdown",
   "metadata": {
    "id": "jynsZdWI0HoN",
    "slideshow": {
     "slide_type": "subslide"
    }
   },
   "source": [
    "This code first adds the polynomial features and scales all the input features, both\n",
    "for the training set and for the validation set (the code assumes that you have split\n",
    "the original training set into a smaller training set and a validation set)."
   ]
  },
  {
   "cell_type": "markdown",
   "metadata": {
    "id": "5GVfqiKe0IPl",
    "slideshow": {
     "slide_type": "fragment"
    }
   },
   "source": [
    "Then it\n",
    "creates an SGDRegressor model with no regularization and a small learning rate. In\n",
    "the training loop, it calls partial_fit() instead of fit(), to perform incremental\n",
    "learning."
   ]
  },
  {
   "cell_type": "markdown",
   "metadata": {
    "id": "s81IB7s50LF9",
    "slideshow": {
     "slide_type": "fragment"
    }
   },
   "source": [
    "At each epoch, it measures the RMSE on the validation set. If it is lower\n",
    "than the lowest RMSE seen so far, it saves a copy of the model in the best_model\n",
    "variable."
   ]
  },
  {
   "cell_type": "markdown",
   "metadata": {
    "id": "5XkAPbz60P9t",
    "slideshow": {
     "slide_type": "fragment"
    }
   },
   "source": [
    "This implementation does not actually stop training, but it lets you revert to\n",
    "the best model after training."
   ]
  },
  {
   "cell_type": "markdown",
   "metadata": {
    "id": "fThQV9GL0UA8",
    "slideshow": {
     "slide_type": "subslide"
    }
   },
   "source": [
    "Note that the model is copied using `copy.deepcopy()`,\n",
    "because it copies both the model’s hyperparameters and the learned parameters. In\n",
    "contrast, `sklearn.base.clone()` only copies the model’s hyperparameters."
   ]
  }
 ],
 "metadata": {
  "celltoolbar": "Slideshow",
  "colab": {
   "provenance": []
  },
  "kernelspec": {
   "display_name": "Python 3 (ipykernel)",
   "language": "python",
   "name": "python3"
  },
  "language_info": {
   "codemirror_mode": {
    "name": "ipython",
    "version": 3
   },
   "file_extension": ".py",
   "mimetype": "text/x-python",
   "name": "python",
   "nbconvert_exporter": "python",
   "pygments_lexer": "ipython3",
   "version": "3.9.13"
  }
 },
 "nbformat": 4,
 "nbformat_minor": 1
}
